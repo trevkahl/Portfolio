{
 "metadata": {
  "language_info": {
   "codemirror_mode": {
    "name": "ipython",
    "version": 3
   },
   "file_extension": ".py",
   "mimetype": "text/x-python",
   "name": "python",
   "nbconvert_exporter": "python",
   "pygments_lexer": "ipython3",
   "version": "3.8.3-final"
  },
  "orig_nbformat": 2,
  "kernelspec": {
   "name": "python_defaultSpec_1599254144165",
   "display_name": "Python 3.8.3 64-bit ('base': conda)"
  }
 },
 "nbformat": 4,
 "nbformat_minor": 2,
 "cells": [
  {
   "cell_type": "code",
   "execution_count": 6,
   "metadata": {
    "tags": []
   },
   "outputs": [],
   "source": [
    "#https://www.geeksforgeeks.org/twitter-sentiment-analysis-using-python/ used for reference point\n",
    "\n",
    "import re\n",
    "import os\n",
    "import sys\n",
    "import pprint as pp\n",
    "import pandas as pd \n",
    "import tweepy \n",
    "from tweepy import OAuthHandler \n",
    "from textblob import TextBlob \n",
    "\n",
    "class TwitterClient(object): \n",
    "\t''' \n",
    "\tGeneric Twitter Class for sentiment analysis. \n",
    "\t'''\n",
    "\tdef __init__(self): \n",
    "\t\t''' \n",
    "\t\tClass constructor or initialization method. \n",
    "\t\t'''\n",
    "\t\t# keys and tokens from Twitter\n",
    "\t\tconsumer_key = 'Th6LYVRPW8I1cUcfaLO1Evt1Y'\n",
    "\t\tconsumer_secret = 'vW7JnFB7pkyPp9QIW7vB4sMDjabFcOtSqUv0q4Eqv0sN9eqQBJ'\n",
    "\t\taccess_token = '100018820-UKtFyudiN7Z3qMstgU1m3ulzFr5TgdPFkat1F9ZF'\n",
    "\t\taccess_token_secret = 'JPuqyzfXEi7J7VXafdWxeCDaYn6YqrohNSylO7mzIzwd4'\n",
    "\n",
    "\t\t# attempt authentication \n",
    "\t\ttry: \n",
    "\t\t\t# create OAuthHandler object \n",
    "\t\t\tself.auth = OAuthHandler(consumer_key, consumer_secret) \n",
    "\t\t\t# set access token and secret \n",
    "\t\t\tself.auth.set_access_token(access_token, access_token_secret) \n",
    "\t\t\t# create tweepy API object to fetch tweets \n",
    "\t\t\tself.api = tweepy.API(self.auth) \n",
    "\t\texcept: \n",
    "\t\t\tprint(\"Error: Authentication Failed\")\n",
    "\n",
    "\tdef clean_tweet(self, tweet): \n",
    "\t\t''' \n",
    "\t\tUtility function to clean tweet text by removing links, special characters \n",
    "\t\t'''\n",
    "\t\treturn ' '.join(re.sub(\"(@[A-Za-z0-9]+)|([^0-9A-Za-z \\t]) |(\\w+:\\/\\/\\S+)\", \" \", tweet).split()) \n",
    "\n",
    "\tdef get_tweet_sentiment(self, tweet): \n",
    "\t\t''' \n",
    "\t\tUtility function to classify sentiment of passed tweet \n",
    "\t\tusing textblob's sentiment method \n",
    "\t\t'''\n",
    "\t\t# create TextBlob object of passed tweet text \n",
    "\t\texplore = TextBlob(self.clean_tweet(tweet)) \n",
    "\t\t# set sentiment \n",
    "\t\tif explore.sentiment.polarity > 0: \n",
    "\t\t\treturn 'positive'\n",
    "\t\telif explore.sentiment.polarity == 0: \n",
    "\t\t\treturn 'neutral'\n",
    "\t\telse: \n",
    "\t\t\treturn 'negative'\n",
    "\n",
    "\tdef get_tweets(self, query, count): \n",
    "\t\t''' \n",
    "\t\tMain function to fetch tweets and parse them. \n",
    "\t\t'''\n",
    "\t\t# empty list to store parsed tweets \n",
    "\t\ttweets = [] \n",
    "\n",
    "\t\ttry: \n",
    "\t\t\t# call twitter api to fetch tweets \n",
    "\t\t\tfetched_tweets = self.api.search(q = query, count = count) \n",
    "\n",
    "\t\t\t# parsing tweets one by one \n",
    "\t\t\tfor tweet in fetched_tweets: \n",
    "\t\t\t\t# empty dictionary to store required params of a tweet \n",
    "\t\t\t\tparsed_tweet = {} \n",
    "\n",
    "\t\t\t\t# saving text of tweet \n",
    "\t\t\t\tparsed_tweet['text'] = tweet.text \n",
    "\t\t\t\t# saving sentiment of tweet \n",
    "\t\t\t\tparsed_tweet['sentiment'] = self.get_tweet_sentiment(tweet.text) \n",
    "\n",
    "\t\t\t\t# appending parsed tweet to tweets list \n",
    "\t\t\t\tif tweet.retweet_count > 0: \n",
    "\t\t\t\t\t# if tweet has retweets, ensure that it is appended only once \n",
    "\t\t\t\t\tif parsed_tweet not in tweets: \n",
    "\t\t\t\t\t\ttweets.append(parsed_tweet) \n",
    "\t\t\t\telse: \n",
    "\t\t\t\t\ttweets.append(parsed_tweet) \n",
    "\n",
    "\t\t\t# return parsed tweets \n",
    "\t\t\treturn tweets \n",
    "\n",
    "\t\texcept tweepy.TweepError as e: \n",
    "\t\t\t# print error (if any) \n",
    "\t\t\tprint(\"Error : \" + str(e)) \n",
    "\n",
    "def main(hashtag, count): \n",
    "\t# creating object of TwitterClient Class \n",
    "\tapi = TwitterClient() \n",
    "\t# calling function to get tweets \n",
    "\ttweets = api.get_tweets(query = hashtag, count = count) \n",
    "\n",
    "\t# picking positive tweets from tweets \n",
    "\tptweets = [tweet for tweet in tweets if tweet['sentiment'] == 'positive'] \n",
    "\t# percentage of positive tweets \n",
    "\tprint(\"Positive tweets percentage: {} %\".format(100*len(ptweets)/len(tweets))) \n",
    "\t# picking negative tweets from tweets \n",
    "\tntweets = [tweet for tweet in tweets if tweet['sentiment'] == 'negative'] \n",
    "\t# percentage of negative tweets \n",
    "\tprint(\"Negative tweets percentage: {} %\".format(100*len(ntweets)/len(tweets))) \n",
    "\t# percentage of neutral tweets \n",
    "\tprint(\"Neutral tweets percentage: {} % \\ \".format(100*(len(tweets) -(len( ntweets )+len( ptweets)))/len(tweets)))\n",
    "\tprint(len(tweets)) \n",
    "\n",
    "\t# printing first 5 positive tweets \n",
    "\tprint(\"\\n\\nPositive tweets:\") \n",
    "\tfor tweet in ptweets[:10]: \n",
    "\t\tprint(tweet['text']) \n",
    "\n",
    "\t# printing first 5 negative tweets \n",
    "\tprint(\"\\n\\nNegative tweets:\") \n",
    "\tfor tweet in ntweets[:10]: \n",
    "\t\tprint(tweet['text']) \n",
    "\n",
    "#if __name__ == \"__main__\": \n",
    "\t# calling main function \n",
    "#pinot = pd.DataFrame(main('#pinotnoir', 200))\n",
    "\n",
    "#pinot.to_csv(r'C:/Users/trev9/OneDrive - Syracuse University/IST 652/Project/Pinot.csv', index = False) \n"
   ]
  },
  {
   "cell_type": "code",
   "execution_count": 7,
   "metadata": {
    "tags": []
   },
   "outputs": [
    {
     "output_type": "stream",
     "name": "stdout",
     "text": "Positive tweets percentage: 32.22222222222222 %\nNegative tweets percentage: 4.444444444444445 %\nNeutral tweets percentage: 63.333333333333336 % \\ \n90\n\n\nPositive tweets:\nRT @MyGuideNZ: Not a bad spot for a #wine - Hans Herzog Estate in #Marlborough #nzwine #myguidenztips https://t.co/eJSOWRPWPQ\nRT @Justerinis: In Jancis Robinson's recent article 'Dorli Muhr's Blaufränkisch', Dorli shares her key objective: 'to make the very, very b…\n@jewels999 All the goodies to help aid peaceful rest days . These are always on my list #Chocalate #Wine… https://t.co/G5svVQOG5e\nRT @masonmalonecom: #Relax with a bottle of white #wine and a new book!\n\nThe Chamala Quest ~ Action Adventure Thriller Humor\n\nBackbeat ~ YA…\nWelcome to Sesame Street for adults! #WinephabetStreet is a monthly series. New month = new letter = new #wine!… https://t.co/kRz0BGz9HC\nRT @WineSpiritMedia: Dismay in Burgundy and New York as US keeps wine tariffs #wine #winemarketing #wineindustry #winemarket https://t.co/5…\nRT @Oenophilechat: Good morning Oenophiles! Once again it is Friday! Which wine will you enjoy over the next few days? I hope you all have…\nRT @Leanne_Laine: My #wineart LoVin at 95&amp;Vine in #Florida (find this #wine #art in many sizes: https://t.co/3lCbD6ibAY) #love #winetasting…\nFinally I got my hair topper!  #cheers #hairtopper #finally #pretty #alopeciaawareness #dogs #pretty #chihuahua… https://t.co/lI2lDx7VHp\nHow have #earthworms and #wine led to the creation of a unique, groundbreaking #technology that is changing the… https://t.co/ew7igp9D0r\n\n\nNegative tweets:\nRT @WickidJenn: Time for my other medication \n\n#wine #September1st #wineoclock https://t.co/TFjmnQIMvV\nTime for my other medication \n\n#wine #September1st #wineoclock https://t.co/TFjmnQIMvV\nhow to get drunk easily:\n1. get alcohol\n2. drink\n\n#alcohol #wine #drinking\nYou have asked and we are answering we have put a limited selection of wines online as well as our Small Distributo… https://t.co/PaZiLErVSb\n"
    }
   ],
   "source": [
    "main('#wine', 2500)"
   ]
  },
  {
   "cell_type": "code",
   "execution_count": 9,
   "metadata": {
    "tags": []
   },
   "outputs": [
    {
     "output_type": "stream",
     "name": "stdout",
     "text": "Positive tweets percentage: 43.47826086956522 %\nNegative tweets percentage: 6.521739130434782 %\nNeutral tweets percentage: 50.0 % \\ \n92\n\n\nPositive tweets:\nLooking for a fun Washington Syrah? Try this one, made by Walla Walla's Smoky Rose Cellars: https://t.co/0gFpYfBmXN… https://t.co/axxlNCPSpR\nGrazie ad @andrea_miglio per questo scatto, a Cortona per il ☀️e ai miei grandi amori per il ♥️ #cortona #syrah… https://t.co/zT4Rn8ronB\nRT @itsfooodooo: Oh hello @Jordan_Wines #prospector #syrah! A luscious full bodied red that entices your palate with notes of #spice #plums…\nBlinded by the light!! Photobomb Syrah is a really delicious Syrah! #DrinkForWA #syrah #wawine #summeratthelake… https://t.co/57tYKbUSaC\nRT @BergeDomaine: 📌#Commande: magnum de notre cuvée #JeanSirven 2015 ! \n\n🍇 #Carignan #Syrah #Grenache .\n👀 Robe rubis intense, belle intensi…\nRT @McPriceMyers: \"then there is the McPrice Myers Les Galets from the Arroyo Grande Valley, the first wine I’ve ever scored at 98 points..…\n\"then there is the McPrice Myers Les Galets from the Arroyo Grande Valley, the first wine I’ve ever scored at 98 po… https://t.co/HuMcgsZMws\nOh hello @Jordan_Wines #prospector #syrah! A luscious full bodied red that entices your palate with notes of #spice… https://t.co/QxYopcqCla\nRT @winegeek22: 2009 @DaneCellars  Justi Creek Syrah!!   So worth the wait it paired perfectly with cherry glazed pork chops 🍷🍇🍷🍇.  Thanks…\nGraciano Bitches!!! This is all James Berry Vineyard fruit. Just stellar, stellar stuff!\n.\n.\n#centralcoastwine… https://t.co/jACmS9uJsg\n\n\nNegative tweets:\nFiinc-avem limbă misteaux\nCelebrăm cu Maison Bleue! \n#syrah #pauljabuletaine @ Raven's Nest - The Hidden Village https://t.co/50ivMVIJYh\nRT @cancino45: Pan roasted chicken with lawrysseasoning , steamed green beans and @norini truffled mashed potatoes accompanied with a @Wind…\nPan roasted chicken with lawrysseasoning , steamed green beans and @norini truffled mashed potatoes accompanied wit… https://t.co/h4w7TVecjC\nA rare treat on this freezing cold night in the Cape. The 2015 SIMELIA SYRAH was sold out ages ago and we only have… https://t.co/26yDTPKB2P\nshowing characteristics of #cinsault &amp; #syrah despite their absence from an English vineyard. #englishwine @HushHeath\nRT @winecasualHQ: Domaine Vincent Paris Granit 30 Cornas 2017 – Alluring Perfume &amp; Black Fruit. 93 Points. https://t.co/Rx9LnhznGR @garagis…\n"
    }
   ],
   "source": [
    "main('#syrah', 2500)"
   ]
  },
  {
   "cell_type": "code",
   "execution_count": 14,
   "metadata": {
    "tags": []
   },
   "outputs": [
    {
     "output_type": "stream",
     "name": "stdout",
     "text": "Positive tweets percentage: 18.88888888888889 %\nNegative tweets percentage: 1.1111111111111112 %\nNeutral tweets percentage: 80.0 % \\ \n90\n\n\nPositive tweets:\nThe best red wines to drink now and later @TownandCountryMagazine @ZuccardiValleDeUco #AluvionalAltamira #Malbec… https://t.co/D5VpqNnsJN\nAchaval Ferrer Finca Bella Vista 2015 #3  Achaval Ferrer Finca Altamira 2015#6\nOn Vinomanos Best 500 Malbec.\nBEST P… https://t.co/RMhIgPohot\nGarrett is bottling some incredible wines today!  So excited for you all to try these. Blue Dog Cab is back...as we… https://t.co/ImEg5F9bAF\nNow that's a very welcome sight! #malbec #Motorhomelife https://t.co/4PcC59ad71\nI really like Australian wines! Here is a great Malbec to go with dinner. Who else does as well?🇦🇺 \n•\n•\n•\n#wine… https://t.co/ZENi9pJqhN\n@bluetonys44 @MotorhomeVlog And here’s the finished article. Superb mate! 😘#cadac #steak #malbec #greeksalad… https://t.co/VhZi7v6v7P\nRT @WildSage_Bistro: Fancy more then a Coffee? #pinotgrigo #chardonnay #sauvignonblanc #merlot #malbec #pinotnoir #laurentperrier #prosecco…\nIs it too early for a glass of 🍷 #malbec\nRT @MPCorpNYC: Join my FREE Wine Webinar Learn About #Malbec\n@Meetup with Sip Happens: Let's Learn About Wine https://t.co/01BiYyHqE6\nJoin my FREE Wine Webinar Learn About #Malbec\n@Meetup with Sip Happens: Let's Learn About Wine https://t.co/01BiYyHqE6\n\n\nNegative tweets:\nThe sun and the cold breeze, witnesses of parcel N°5 at Finca El Tomillo, Gualtallary. The ancient calcareous soils… https://t.co/X3l6lYmxfO\n"
    }
   ],
   "source": [
    "main('#malbec', 2500)"
   ]
  },
  {
   "cell_type": "code",
   "execution_count": 11,
   "metadata": {
    "tags": []
   },
   "outputs": [
    {
     "output_type": "stream",
     "name": "stdout",
     "text": "Positive tweets percentage: 48.83720930232558 %\nNegative tweets percentage: 2.3255813953488373 %\nNeutral tweets percentage: 48.83720930232558 % \\ \n86\n\n\nPositive tweets:\nEl arte de envejecer ♥️ \nDescansa, espera paciente y en silencio. El proceso del vino es mágico. Lo bueno se hace e… https://t.co/vENF7nl9EV\nRT @RoebuckSteve1: My beautiful wife @vashtiroebuck1 with a lovely bottle of #wine \n\n#winetasting #winepairing #wineoclock #winelovers #win…\nMy beautiful wife @vashtiroebuck1 with a lovely bottle of #wine \n\n#winetasting #winepairing #wineoclock #winelovers… https://t.co/e7xCa877b9\nRT @OpusOneWinery: The dawn of a new day brings about the first picking of our 2020 vintage. \n\n#opusone #harvest #vineyards #oakville #napa…\nThe dawn of a new day brings about the first picking of our 2020 vintage. \n\n#opusone #harvest #vineyards #oakville… https://t.co/kiQdsVZHfh\nSeptember is officially here &amp; that means fall is around the corner. Looking to cozy up with a great dinner &amp; a gla… https://t.co/1mdkuQ5ql6\nIntroducing #CHWine Lot 736 Sierra Foothills #CabernetSauvignon: https://t.co/UklgLKTK4x. \n\nThis is an elegant, aro… https://t.co/Abotsd2FXA\nJust tried two new selections from #CHWine . First, a #Meritage blend from Sierra Foothills;  trainwreck. The secon… https://t.co/80GDrWmDWR\nRT @CapeWineStaines: Did you know, you can know buy stunning SA wines from @thehatseaton in Devon! @AnnandaleWines @villionwines @ClosMalve…\nWhen it’s been a long week and it’s only Monday? #ribeye #cabernetsauvignon🍷 \n#sonomacounty #2009 still amazing \n🥩🍷… https://t.co/CohFOq66DY\n\n\nNegative tweets:\nRT @MarkRyanWinery: #cabernetsauvignon from @RedMtnAVA 🍷 Our LONELY HEART label is a barrel selected, reserve wine that’s 100% #cabernetsau…\n#cabernetsauvignon from @RedMtnAVA 🍷 Our LONELY HEART label is a barrel selected, reserve wine that’s 100%… https://t.co/Fw6Uw4kQdh\n"
    }
   ],
   "source": [
    "main('#cabernetsauvignon', 2500)"
   ]
  },
  {
   "cell_type": "code",
   "execution_count": 12,
   "metadata": {
    "tags": []
   },
   "outputs": [
    {
     "output_type": "stream",
     "name": "stdout",
     "text": "Positive tweets percentage: 36.7816091954023 %\nNegative tweets percentage: 2.2988505747126435 %\nNeutral tweets percentage: 60.91954022988506 % \\ \n87\n\n\nPositive tweets:\nBird In Hand\nPinot Rose\n\nA crisp&amp;dry rose, perfect drinking in the garden. Plenty of acidity&amp;plenty of strawberry,… https://t.co/kUpA5R1dLO\nWinesmash, yo. I love whale tails super hard and this bottle was the shit. So I wanted to share it. Also...Read mor… https://t.co/1VODMYGT7q\n\"The first duty of wine is to be red, the second is to be a Burgundy.\" —Alec Waugh #WineQuotes #PinotNoir https://t.co/PmqMD6zoZZ\nFirst fruits of the #harvest season, our #PinotNoir arrived on Friday! Cheers! https://t.co/zW6msir66h\n/Signed by the winemaker. Remoissenet Père et Fils has more than a century of winemaking history in Burgundy and is… https://t.co/dkiGfrkS87\nRT @byjamesatkinson: An absolute pleasure to discuss all things @TwoPaddocks, wine and acting with Sam Neill on the Drinks Adventures Podca…\nHello Pinot 🍇🍾🍷\n.\n.\n.\n#pinotnoir #delicious #wines #coolclimatewines #tamarvalleywineroute #tasmania #winery… https://t.co/Dx7VVQ3Afi\nFresh fruit, light and silky,  strawberry 🍓 scents #Reuilly #pinotnoir !  Pair this #wine with sweet-and-savoury di… https://t.co/oHoXOBqEma\nRT @VitiCultureUK: It’s 1st September! Autumn Sundays ahead!  🐶 + 🍂 + 🔥 + 🛋 +🍷 @welshwines #pinotnoir = perfection! \n\nAvailable through the…\nIt’s 1st September! Autumn Sundays ahead!  🐶 + 🍂 + 🔥 + 🛋 +🍷 @welshwines #pinotnoir = perfection! \n\nAvailable throug… https://t.co/g1QQcnBWs6\n\n\nNegative tweets:\nPinot is a naughty little kitty that thinks herself the connoisseur. Just a lil' sip....\n🍷\n🍷\n🍷\n🔪\n#cat #cats #kitty… https://t.co/wrnTf07kJu\nSlight delay due to Covid-19 but here we go!\n\nNew vintage finally going into the cellar.\n\n#PinotNoir #Chardonnay… https://t.co/eJzVy1kulg\n"
    }
   ],
   "source": [
    "main('#pinotnoir', 2500)"
   ]
  },
  {
   "cell_type": "code",
   "execution_count": 13,
   "metadata": {
    "tags": []
   },
   "outputs": [
    {
     "output_type": "stream",
     "name": "stdout",
     "text": "Positive tweets percentage: 28.571428571428573 %\nNegative tweets percentage: 2.857142857142857 %\nNeutral tweets percentage: 68.57142857142857 % \\ \n35\n\n\nPositive tweets:\nRT @LambruscoWeek: Let your customers know that your #Lambrusco on your wine list is “real”. Only in Emilia “Lambrusco” means “REAL Lambrus…\nLet your customers know that your #Lambrusco on your wine list is “real”. Only in Emilia “Lambrusco” means “REAL La… https://t.co/L1ZfN2RJDy\nOur meal at lastregalv was beyond phenomenal! #Chef marinelli.gina and crew were amazing!!!\n#cucinaitaliana… https://t.co/xOpFQRPef9\nSo 183 BC. :)\n\n#JunkLambrusco (4-9.5%) has nothing to do with #Lambrusco. https://t.co/SMWFNnFabZ\nRT @wineworldnews: A Quick Guide to Sweet Red Wine https://t.co/ZiqjrtJQrF #wine #redwine #banjuls #maury #lambrusco @Havenlust https://t.c…\n“THERE’S #Lambrusco [10.5+%, secco/0-15g/l sugar] and then there is the light, frothy flavourless, red that crimina… https://t.co/6caJSFMVeV\nCheers, Happy National Red Wine Day 🍷\n\nEnjoy a glass of #Carménère #Zinfandel #CabernetFranc #Pinot Noir #Lambrusco… https://t.co/OSAsw1uRkJ\nA Quick Guide to Sweet Red Wine https://t.co/ZiqjrtJQrF #wine #redwine #banjuls #maury #lambrusco @Havenlust https://t.co/WuAcBnkzm1\nBuy Ariola Marcello Lambrusco Gran Cru for only £10,28 on https://t.co/pN1QXozcXi #drinksco #drinksandco #offers #lambrusco\n“#Lambrusco had a surge of popularity in the U.S. a few decades ago. Remember “#Riunite on ice?” Today, beautiful,… https://t.co/V2dPWmxbEd\n\n\nNegative tweets:\nYour supermarket &amp; liquor store  #JunkLambrusco isn’t #Lambrusco. It’s an insanely sugary version of Lambrusco. It… https://t.co/klpHj69Gsk\n"
    }
   ],
   "source": [
    "main('#lambrusco', 2500)"
   ]
  },
  {
   "cell_type": "code",
   "execution_count": 1,
   "metadata": {
    "tags": []
   },
   "outputs": [
    {
     "output_type": "error",
     "ename": "NameError",
     "evalue": "name 'main' is not defined",
     "traceback": [
      "\u001b[1;31m---------------------------------------------------------------------------\u001b[0m",
      "\u001b[1;31mNameError\u001b[0m                                 Traceback (most recent call last)",
      "\u001b[1;32m<ipython-input-1-cb6bd942e16f>\u001b[0m in \u001b[0;36m<module>\u001b[1;34m\u001b[0m\n\u001b[1;32m----> 1\u001b[1;33m \u001b[0mmain\u001b[0m\u001b[1;33m(\u001b[0m\u001b[1;33m(\u001b[0m\u001b[1;34m'#patrimony'\u001b[0m\u001b[1;33m,\u001b[0m\u001b[1;34m'#wine'\u001b[0m\u001b[1;33m)\u001b[0m\u001b[1;33m,\u001b[0m \u001b[1;36m2500\u001b[0m\u001b[1;33m)\u001b[0m\u001b[1;31m#import pandas\u001b[0m\u001b[1;33m\u001b[0m\u001b[1;33m\u001b[0m\u001b[0m\n\u001b[0m\u001b[0;32m      2\u001b[0m \u001b[1;33m\u001b[0m\u001b[0m\n\u001b[0;32m      3\u001b[0m \u001b[1;32mimport\u001b[0m \u001b[0mos\u001b[0m\u001b[1;33m\u001b[0m\u001b[1;33m\u001b[0m\u001b[0m\n\u001b[0;32m      4\u001b[0m \u001b[1;32mimport\u001b[0m \u001b[0msys\u001b[0m\u001b[1;33m\u001b[0m\u001b[1;33m\u001b[0m\u001b[0m\n\u001b[0;32m      5\u001b[0m \u001b[1;32mimport\u001b[0m \u001b[0mre\u001b[0m\u001b[1;33m\u001b[0m\u001b[1;33m\u001b[0m\u001b[0m\n",
      "\u001b[1;31mNameError\u001b[0m: name 'main' is not defined"
     ]
    }
   ],
   "source": [
    "\n",
    "import os\n",
    "import sys\n",
    "import re\n",
    "import pprint as pp\n",
    "import pandas as pd\n",
    "import numpy as np\n",
    "from matplotlib import pyplot as plt\n",
    "%matplotlib inline \n",
    "\n",
    "#use regular data set\n",
    "file = \"C:/Users/trev9/OneDrive - Syracuse University/IST 652/WAWdata.csv\""
   ]
  },
  {
   "cell_type": "code",
   "execution_count": null,
   "metadata": {},
   "outputs": [],
   "source": [
    "#read the Excel file into an object \n",
    "wineData = pd.read_csv(file, encoding = 'latin1') \n",
    "winesDF = pd.DataFrame(wineData)\n",
    "\n",
    "#view first 10 rows to make sure data was imported correctly\n",
    "winesDF.head(10)"
   ]
  },
  {
   "cell_type": "code",
   "execution_count": null,
   "metadata": {},
   "outputs": [],
   "source": [
    "#Dropped any N/A values in the dataframe.\n",
    "\n",
    "winesDF = winesDF.dropna()"
   ]
  },
  {
   "cell_type": "code",
   "execution_count": null,
   "metadata": {},
   "outputs": [],
   "source": [
    "numChildDFtable = (winesDF.pivot_table(index='winery', columns=('variety'), values='points',\n",
    "                aggfunc='mean', fill_value=0)) \n",
    "\n",
    "print(numChildDFtable)"
   ]
  },
  {
   "cell_type": "code",
   "execution_count": null,
   "metadata": {},
   "outputs": [],
   "source": [
    "numChildDFtable = (winesDF.pivot_table(index='variety', values='points',\n",
    "                aggfunc='mean', fill_value=0)) \n",
    "\n",
    "print(numChildDFtable)"
   ]
  }
 ]
}