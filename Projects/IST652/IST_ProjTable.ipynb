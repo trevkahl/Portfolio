{
 "metadata": {
  "language_info": {
   "codemirror_mode": {
    "name": "ipython",
    "version": 3
   },
   "file_extension": ".py",
   "mimetype": "text/x-python",
   "name": "python",
   "nbconvert_exporter": "python",
   "pygments_lexer": "ipython3",
   "version": "3.8.3-final"
  },
  "orig_nbformat": 2,
  "kernelspec": {
   "name": "python_defaultSpec_1598996388996",
   "display_name": "Python 3.8.3 64-bit ('base': conda)"
  }
 },
 "nbformat": 4,
 "nbformat_minor": 2,
 "cells": [
  {
   "cell_type": "code",
   "execution_count": 2,
   "metadata": {},
   "outputs": [],
   "source": [
    "#import pandas \n",
    "\n",
    "import os\n",
    "import sys\n",
    "import re\n",
    "import pprint as pp\n",
    "import pandas as pd\n",
    "import numpy as np\n",
    "from matplotlib import pyplot as plt\n",
    "%matplotlib inline \n",
    "\n",
    "#use regular data set\n",
    "file = \"C:/Users/trev9/OneDrive - Syracuse University/IST 652/WAWdata.csv\""
   ]
  },
  {
   "cell_type": "code",
   "execution_count": 3,
   "metadata": {},
   "outputs": [
    {
     "output_type": "execute_result",
     "data": {
      "text/plain": "   number country                                        description  \\\n0   63226   Italy  Ripe cherry and dark plum fruit, light tobacco...   \n1   63393   Italy  Ripe cherry and dark plum fruit, light tobacco...   \n2  113701   Italy  Made from a blend of five indigenous grapes fr...   \n3  115337   Italy  Made from a blend of five indigenous grapes fr...   \n4  117936   Italy  Made from a blend of five indigenous grapes fr...   \n5  118873   Italy  Made from a blend of five indigenous grapes fr...   \n6  113707   Italy  This is a bold, bulky blend of five indigenous...   \n7  114383   Italy  This is a bold, bulky blend of five indigenous...   \n8  115385   Italy  This is a bold, bulky blend of five indigenous...   \n9  113698   Italy  This hearty red wine from central Italy would ...   \n\n                 designation  points  price       province region_1 region_2  \\\n0     Winemaker's Collection      85      9  Central Italy  Abruzzo     None   \n1     Winemaker's Collection      85      9  Central Italy  Abruzzo     None   \n2  Edizione Cinque Autoctoni      90     43  Central Italy  Abruzzo     None   \n3  Edizione Cinque Autoctoni      90     43  Central Italy  Abruzzo     None   \n4  Edizione Cinque Autoctoni      90     43  Central Italy  Abruzzo     None   \n5  Edizione Cinque Autoctoni      90     43  Central Italy  Abruzzo     None   \n6  Edizione Cinque Autoctoni      89     43  Central Italy  Abruzzo     None   \n7  Edizione Cinque Autoctoni      89     43  Central Italy  Abruzzo     None   \n8  Edizione Cinque Autoctoni      89     43  Central Italy  Abruzzo     None   \n9                     Tullum      91     22  Central Italy  Abruzzo     None   \n\n         variety        winery hemisphere    harvest  avgrain  avgtemp  \n0  Montepulciano     Canaletto      North  September      3.2     76.0  \n1  Montepulciano     Canaletto      North  September      3.2     76.0  \n2      Red Blend       Farnese      North  September      3.2     76.0  \n3      Red Blend       Farnese      North  September      3.2     76.0  \n4      Red Blend       Farnese      North  September      3.2     76.0  \n5      Red Blend       Farnese      North  September      3.2     76.0  \n6      Red Blend       Farnese      North  September      3.2     76.0  \n7      Red Blend       Farnese      North  September      3.2     76.0  \n8      Red Blend       Farnese      North  September      3.2     76.0  \n9      Red Blend  Feudo Antico      North  September      3.2     76.0  ",
      "text/html": "<div>\n<style scoped>\n    .dataframe tbody tr th:only-of-type {\n        vertical-align: middle;\n    }\n\n    .dataframe tbody tr th {\n        vertical-align: top;\n    }\n\n    .dataframe thead th {\n        text-align: right;\n    }\n</style>\n<table border=\"1\" class=\"dataframe\">\n  <thead>\n    <tr style=\"text-align: right;\">\n      <th></th>\n      <th>number</th>\n      <th>country</th>\n      <th>description</th>\n      <th>designation</th>\n      <th>points</th>\n      <th>price</th>\n      <th>province</th>\n      <th>region_1</th>\n      <th>region_2</th>\n      <th>variety</th>\n      <th>winery</th>\n      <th>hemisphere</th>\n      <th>harvest</th>\n      <th>avgrain</th>\n      <th>avgtemp</th>\n    </tr>\n  </thead>\n  <tbody>\n    <tr>\n      <th>0</th>\n      <td>63226</td>\n      <td>Italy</td>\n      <td>Ripe cherry and dark plum fruit, light tobacco...</td>\n      <td>Winemaker's Collection</td>\n      <td>85</td>\n      <td>9</td>\n      <td>Central Italy</td>\n      <td>Abruzzo</td>\n      <td>None</td>\n      <td>Montepulciano</td>\n      <td>Canaletto</td>\n      <td>North</td>\n      <td>September</td>\n      <td>3.2</td>\n      <td>76.0</td>\n    </tr>\n    <tr>\n      <th>1</th>\n      <td>63393</td>\n      <td>Italy</td>\n      <td>Ripe cherry and dark plum fruit, light tobacco...</td>\n      <td>Winemaker's Collection</td>\n      <td>85</td>\n      <td>9</td>\n      <td>Central Italy</td>\n      <td>Abruzzo</td>\n      <td>None</td>\n      <td>Montepulciano</td>\n      <td>Canaletto</td>\n      <td>North</td>\n      <td>September</td>\n      <td>3.2</td>\n      <td>76.0</td>\n    </tr>\n    <tr>\n      <th>2</th>\n      <td>113701</td>\n      <td>Italy</td>\n      <td>Made from a blend of five indigenous grapes fr...</td>\n      <td>Edizione Cinque Autoctoni</td>\n      <td>90</td>\n      <td>43</td>\n      <td>Central Italy</td>\n      <td>Abruzzo</td>\n      <td>None</td>\n      <td>Red Blend</td>\n      <td>Farnese</td>\n      <td>North</td>\n      <td>September</td>\n      <td>3.2</td>\n      <td>76.0</td>\n    </tr>\n    <tr>\n      <th>3</th>\n      <td>115337</td>\n      <td>Italy</td>\n      <td>Made from a blend of five indigenous grapes fr...</td>\n      <td>Edizione Cinque Autoctoni</td>\n      <td>90</td>\n      <td>43</td>\n      <td>Central Italy</td>\n      <td>Abruzzo</td>\n      <td>None</td>\n      <td>Red Blend</td>\n      <td>Farnese</td>\n      <td>North</td>\n      <td>September</td>\n      <td>3.2</td>\n      <td>76.0</td>\n    </tr>\n    <tr>\n      <th>4</th>\n      <td>117936</td>\n      <td>Italy</td>\n      <td>Made from a blend of five indigenous grapes fr...</td>\n      <td>Edizione Cinque Autoctoni</td>\n      <td>90</td>\n      <td>43</td>\n      <td>Central Italy</td>\n      <td>Abruzzo</td>\n      <td>None</td>\n      <td>Red Blend</td>\n      <td>Farnese</td>\n      <td>North</td>\n      <td>September</td>\n      <td>3.2</td>\n      <td>76.0</td>\n    </tr>\n    <tr>\n      <th>5</th>\n      <td>118873</td>\n      <td>Italy</td>\n      <td>Made from a blend of five indigenous grapes fr...</td>\n      <td>Edizione Cinque Autoctoni</td>\n      <td>90</td>\n      <td>43</td>\n      <td>Central Italy</td>\n      <td>Abruzzo</td>\n      <td>None</td>\n      <td>Red Blend</td>\n      <td>Farnese</td>\n      <td>North</td>\n      <td>September</td>\n      <td>3.2</td>\n      <td>76.0</td>\n    </tr>\n    <tr>\n      <th>6</th>\n      <td>113707</td>\n      <td>Italy</td>\n      <td>This is a bold, bulky blend of five indigenous...</td>\n      <td>Edizione Cinque Autoctoni</td>\n      <td>89</td>\n      <td>43</td>\n      <td>Central Italy</td>\n      <td>Abruzzo</td>\n      <td>None</td>\n      <td>Red Blend</td>\n      <td>Farnese</td>\n      <td>North</td>\n      <td>September</td>\n      <td>3.2</td>\n      <td>76.0</td>\n    </tr>\n    <tr>\n      <th>7</th>\n      <td>114383</td>\n      <td>Italy</td>\n      <td>This is a bold, bulky blend of five indigenous...</td>\n      <td>Edizione Cinque Autoctoni</td>\n      <td>89</td>\n      <td>43</td>\n      <td>Central Italy</td>\n      <td>Abruzzo</td>\n      <td>None</td>\n      <td>Red Blend</td>\n      <td>Farnese</td>\n      <td>North</td>\n      <td>September</td>\n      <td>3.2</td>\n      <td>76.0</td>\n    </tr>\n    <tr>\n      <th>8</th>\n      <td>115385</td>\n      <td>Italy</td>\n      <td>This is a bold, bulky blend of five indigenous...</td>\n      <td>Edizione Cinque Autoctoni</td>\n      <td>89</td>\n      <td>43</td>\n      <td>Central Italy</td>\n      <td>Abruzzo</td>\n      <td>None</td>\n      <td>Red Blend</td>\n      <td>Farnese</td>\n      <td>North</td>\n      <td>September</td>\n      <td>3.2</td>\n      <td>76.0</td>\n    </tr>\n    <tr>\n      <th>9</th>\n      <td>113698</td>\n      <td>Italy</td>\n      <td>This hearty red wine from central Italy would ...</td>\n      <td>Tullum</td>\n      <td>91</td>\n      <td>22</td>\n      <td>Central Italy</td>\n      <td>Abruzzo</td>\n      <td>None</td>\n      <td>Red Blend</td>\n      <td>Feudo Antico</td>\n      <td>North</td>\n      <td>September</td>\n      <td>3.2</td>\n      <td>76.0</td>\n    </tr>\n  </tbody>\n</table>\n</div>"
     },
     "metadata": {},
     "execution_count": 3
    }
   ],
   "source": [
    "#read the Excel file into an object \n",
    "wineData = pd.read_csv(file, encoding = 'latin1') \n",
    "winesDF = pd.DataFrame(wineData)\n",
    "\n",
    "#view first 10 rows to make sure data was imported correctly\n",
    "winesDF.head(10)"
   ]
  },
  {
   "cell_type": "code",
   "execution_count": 4,
   "metadata": {},
   "outputs": [],
   "source": [
    "#Dropped any N/A values in the dataframe.\n",
    "\n",
    "winesDF = winesDF.dropna()"
   ]
  },
  {
   "cell_type": "code",
   "execution_count": 9,
   "metadata": {
    "tags": []
   },
   "outputs": [
    {
     "output_type": "stream",
     "name": "stdout",
     "text": "variety           Agiorgitiko  Aglianico  Alicante  Alicante Bouschet  \\\nwinery                                                                  \n1+1=3                     0.0        0.0       0.0                0.0   \n10 Knots                  0.0        0.0       0.0                0.0   \n100 Percent Wine          0.0        0.0       0.0                0.0   \n1000 Stories              0.0        0.0       0.0                0.0   \n12 Linajes                0.0        0.0       0.0                0.0   \n...                       ...        ...       ...                ...   \nZusslin                   0.0        0.0       0.0                0.0   \nZym??                     0.0        0.0       0.0                0.0   \nZynthesis                 0.0        0.0       0.0                0.0   \niNapa Wine                0.0        0.0       0.0                0.0   \nkukkula                   0.0        0.0       0.0                0.0   \n\nvariety           Alvarelh?o  Aragon?¦s  Austrian Red Blend  Barbera  \\\nwinery                                                                  \n1+1=3                     0.0        0.0                 0.0      0.0   \n10 Knots                  0.0        0.0                 0.0      0.0   \n100 Percent Wine          0.0        0.0                 0.0      0.0   \n1000 Stories              0.0        0.0                 0.0      0.0   \n12 Linajes                0.0        0.0                 0.0      0.0   \n...                       ...        ...                 ...      ...   \nZusslin                   0.0        0.0                 0.0      0.0   \nZym??                     0.0        0.0                 0.0      0.0   \nZynthesis                 0.0        0.0                 0.0      0.0   \niNapa Wine                0.0        0.0                 0.0      0.0   \nkukkula                   0.0        0.0                 0.0      0.0   \n\nvariety           Black Muscat  Blauer Portugieser  ...  Touriga Nacional  \\\nwinery                                              ...                     \n1+1=3                      0.0                   0  ...               0.0   \n10 Knots                   0.0                   0  ...               0.0   \n100 Percent Wine           0.0                   0  ...               0.0   \n1000 Stories               0.0                   0  ...               0.0   \n12 Linajes                 0.0                   0  ...               0.0   \n...                        ...                 ...  ...               ...   \nZusslin                    0.0                   0  ...               0.0   \nZym??                      0.0                   0  ...               0.0   \nZynthesis                  0.0                   0  ...               0.0   \niNapa Wine                 0.0                   0  ...               0.0   \nkukkula                    0.0                   0  ...               0.0   \n\nvariety           Touriga Nacional Blend  Touriga Nacional-Cabernet Sauvignon  \\\nwinery                                                                          \n1+1=3                                0.0                                    0   \n10 Knots                             0.0                                    0   \n100 Percent Wine                     0.0                                    0   \n1000 Stories                         0.0                                    0   \n12 Linajes                           0.0                                    0   \n...                                  ...                                  ...   \nZusslin                              0.0                                    0   \nZym??                                0.0                                    0   \nZynthesis                            0.0                                    0   \niNapa Wine                           0.0                                    0   \nkukkula                              0.0                                    0   \n\nvariety           Trepat  Trincadeira  Trousseau  Valdigui??  Xinomavro  \\\nwinery                                                                    \n1+1=3                  0          0.0          0         0.0        0.0   \n10 Knots               0          0.0          0         0.0        0.0   \n100 Percent Wine       0          0.0          0         0.0        0.0   \n1000 Stories           0          0.0          0         0.0        0.0   \n12 Linajes             0          0.0          0         0.0        0.0   \n...                  ...          ...        ...         ...        ...   \nZusslin                0          0.0          0         0.0        0.0   \nZym??                  0          0.0          0         0.0        0.0   \nZynthesis              0          0.0          0         0.0        0.0   \niNapa Wine             0          0.0          0         0.0        0.0   \nkukkula                0          0.0          0         0.0        0.0   \n\nvariety           Zinfandel  Zweigelt  \nwinery                                 \n1+1=3              0.000000       0.0  \n10 Knots           0.000000       0.0  \n100 Percent Wine   0.000000       0.0  \n1000 Stories      90.333333       0.0  \n12 Linajes         0.000000       0.0  \n...                     ...       ...  \nZusslin            0.000000       0.0  \nZym??              0.000000       0.0  \nZynthesis         82.500000       0.0  \niNapa Wine         0.000000       0.0  \nkukkula            0.000000       0.0  \n\n[1524 rows x 145 columns]\n"
    }
   ],
   "source": [
    "numChildDFtable = (winesDF.pivot_table(index='winery', columns=('variety'), values='points',\n",
    "                aggfunc='mean', fill_value=0)) \n",
    "\n",
    "print(numChildDFtable)"
   ]
  },
  {
   "cell_type": "code",
   "execution_count": 5,
   "metadata": {
    "tags": []
   },
   "outputs": [
    {
     "output_type": "stream",
     "name": "stdout",
     "text": "points\nvariety                     \nAgiorgitiko        86.500000\nAglianico          89.388128\nAlicante           87.500000\nAlicante Bouschet  85.375000\nAlvarelh?o        84.333333\n...                      ...\nTrousseau          88.000000\nValdigui??         85.600000\nXinomavro          86.636364\nZinfandel          87.742890\nZweigelt           88.150000\n\n[145 rows x 1 columns]\n"
    }
   ],
   "source": [
    "numChildDFtable = (winesDF.pivot_table(index='variety', values='points',\n",
    "                aggfunc='mean', fill_value=0)) \n",
    "\n",
    "print(numChildDFtable)"
   ]
  },
  {
   "cell_type": "code",
   "execution_count": null,
   "metadata": {},
   "outputs": [],
   "source": []
  }
 ]
}